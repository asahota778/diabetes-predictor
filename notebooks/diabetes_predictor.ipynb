{
 "cells": [
  {
   "cell_type": "code",
   "execution_count": null,
   "id": "3352ba79-b272-4c0a-b42b-144a654fc3ab",
   "metadata": {},
   "outputs": [],
   "source": [
    "# notebooks/diabetes_predictor_notebook.ipynb\n",
    "\n",
    "import pandas as pd\n",
    "from diabetes_predictor.data_loader import DataLoader\n",
    "from diabetes_predictor.preprocessors.drop_na_preprocessor import DropNaPreprocessor\n",
    "from diabetes_predictor.preprocessors.fill_na_preprocessor import FillNaPreprocessor\n",
    "from diabetes_predictor.feature_extractors.feature_transformer_1 import AgeBinningFeatureExtractor\n",
    "from diabetes_predictor.feature_extractors.feature_transformer_2 import BMIExtractor\n",
    "from diabetes_predictor.models.model import DiabetesModel\n",
    "from sklearn.metrics import roc_auc_score\n",
    "\n",
    "# Load the data\n",
    "data_loader = DataLoader('../data/dataset.csv')\n",
    "train_data, test_data = data_loader.load_data()\n",
    "\n",
    "# Preprocess the data\n",
    "drop_na = DropNaPreprocessor(columns_to_check=['age', 'gender', 'ethnicity'])\n",
    "train_data = drop_na.preprocess(train_data)\n",
    "test_data = drop_na.preprocess(test_data)\n",
    "\n",
    "fill_na = FillNaPreprocessor(columns_to_fill=['height', 'weight'])\n",
    "train_data = fill_na.preprocess(train_data)\n",
    "test_data = fill_na.preprocess(test_data)\n",
    "\n",
    "# Feature extraction\n",
    "age_binner = AgeBinningFeatureExtractor()\n",
    "train_data = age_binner.transform(train_data)\n",
    "test_data = age_binner.transform(test_data)\n",
    "\n",
    "bmi_extractor = BMIExtractor()\n",
    "train_data = bmi_extractor.transform(train_data)\n",
    "test_data = bmi_extractor.transform(test_data)\n",
    "\n",
    "# Train the model\n",
    "feature_columns = ['age_binned', 'BMI']\n",
    "target_column = 'diabetes'\n",
    "model = DiabetesModel(feature_columns, target_column)\n",
    "\n",
    "model.train(train_data)\n",
    "\n",
    "# Make predictions\n",
    "test_data['predictions'] = model.predict(test_data)\n",
    "\n",
    "# Evaluate the model\n",
    "roc_auc = roc_auc_score(test_data[target_column], test_data['predictions'])\n",
    "print(f'ROC AUC Score: {roc_auc}')\n"
   ]
  },
  {
   "cell_type": "code",
   "execution_count": null,
   "id": "c1a08b26-5b4f-427d-9412-223aa64d8ac8",
   "metadata": {},
   "outputs": [],
   "source": []
  }
 ],
 "metadata": {
  "kernelspec": {
   "display_name": "Python 3 (ipykernel)",
   "language": "python",
   "name": "python3"
  },
  "language_info": {
   "codemirror_mode": {
    "name": "ipython",
    "version": 3
   },
   "file_extension": ".py",
   "mimetype": "text/x-python",
   "name": "python",
   "nbconvert_exporter": "python",
   "pygments_lexer": "ipython3",
   "version": "3.12.4"
  }
 },
 "nbformat": 4,
 "nbformat_minor": 5
}
